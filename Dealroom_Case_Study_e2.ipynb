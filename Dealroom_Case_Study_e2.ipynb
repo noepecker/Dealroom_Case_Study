{
  "nbformat": 4,
  "nbformat_minor": 0,
  "metadata": {
    "colab": {
      "name": "Dealroom_Case_Study_e2.ipynb",
      "provenance": []
    },
    "kernelspec": {
      "name": "python3",
      "display_name": "Python 3"
    },
    "language_info": {
      "name": "python"
    }
  },
  "cells": [
    {
      "cell_type": "markdown",
      "metadata": {
        "id": "PJ9ci9jjdt-Z"
      },
      "source": [
        "# Libraries"
      ]
    },
    {
      "cell_type": "code",
      "metadata": {
        "id": "PEh9Q7JzdntN"
      },
      "source": [
        "import numpy as np\n",
        "import pandas as pd\n",
        "\n",
        "import matplotlib.pyplot as plt\n",
        "import seaborn as sb\n",
        "\n",
        "from sklearn.model_selection import train_test_split\n",
        "\n",
        "from sklearn.pipeline import Pipeline\n",
        "from sklearn.model_selection import GridSearchCV \n",
        "\n",
        "from sklearn.preprocessing import StandardScaler\n",
        "from sklearn.preprocessing import MinMaxScaler\n",
        "\n",
        "from sklearn.impute import SimpleImputer\n",
        "from sklearn.impute import KNNImputer\n",
        "from sklearn.experimental import enable_iterative_imputer\n",
        "from sklearn.impute import IterativeImputer\n",
        "\n",
        "from sklearn.metrics import mean_absolute_error\n",
        "from sklearn.metrics import mean_squared_error\n",
        "from decimal import Decimal\n",
        "import random\n",
        "\n",
        "from sklearn.linear_model import LinearRegression\n",
        "from sklearn.ensemble import RandomForestRegressor\n",
        "\n",
        "import warnings\n",
        "warnings.filterwarnings(\"ignore\")"
      ],
      "execution_count": 183,
      "outputs": []
    },
    {
      "cell_type": "markdown",
      "metadata": {
        "id": "EiRqgNQrd0_U"
      },
      "source": [
        "# Read Data"
      ]
    },
    {
      "cell_type": "code",
      "metadata": {
        "id": "uK4OFwnmd8au"
      },
      "source": [
        "# Read data\n",
        "dir = 'data_scientist_intern_revenue_model.csv'\n",
        "raw_df = pd.read_csv(dir,na_values=[\" -   \"])\n",
        "# Delete commas\n",
        "raw_df.replace(',','', regex=True, inplace=True)\n",
        "# To numeric\n",
        "raw_df.iloc[:,1:6] = raw_df.iloc[:,1:6].apply(pd.to_numeric)\n",
        "# Unify column names\n",
        "raw_df.rename(columns = {'Revenue_2015 ': 'Revenue_2015'}, inplace = True)"
      ],
      "execution_count": 186,
      "outputs": []
    },
    {
      "cell_type": "code",
      "metadata": {
        "colab": {
          "base_uri": "https://localhost:8080/",
          "height": 444
        },
        "id": "mmU2ZmxUeBvD",
        "outputId": "9f2bfdd0-fe2b-47db-e3de-76fa95f09819"
      },
      "source": [
        "df = raw_df.drop(['NAME','Revenue_2020(To predict)'], axis = 1)\n",
        "# Check data\n",
        "df"
      ],
      "execution_count": 120,
      "outputs": [
        {
          "output_type": "execute_result",
          "data": {
            "text/html": [
              "<div>\n",
              "<style scoped>\n",
              "    .dataframe tbody tr th:only-of-type {\n",
              "        vertical-align: middle;\n",
              "    }\n",
              "\n",
              "    .dataframe tbody tr th {\n",
              "        vertical-align: top;\n",
              "    }\n",
              "\n",
              "    .dataframe thead th {\n",
              "        text-align: right;\n",
              "    }\n",
              "</style>\n",
              "<table border=\"1\" class=\"dataframe\">\n",
              "  <thead>\n",
              "    <tr style=\"text-align: right;\">\n",
              "      <th></th>\n",
              "      <th>Revenue_2015</th>\n",
              "      <th>Revenue_2016</th>\n",
              "      <th>Revenue_2017</th>\n",
              "      <th>Revenue_2018</th>\n",
              "      <th>Revenue_2019</th>\n",
              "      <th>Employees_2017</th>\n",
              "      <th>Employees_2018</th>\n",
              "      <th>Employees_2019</th>\n",
              "      <th>Employees_2020</th>\n",
              "    </tr>\n",
              "  </thead>\n",
              "  <tbody>\n",
              "    <tr>\n",
              "      <th>0</th>\n",
              "      <td>1.903978e+10</td>\n",
              "      <td>2.467163e+10</td>\n",
              "      <td>2.457376e+10</td>\n",
              "      <td>2.260886e+10</td>\n",
              "      <td>2.657454e+10</td>\n",
              "      <td>NaN</td>\n",
              "      <td>805.0</td>\n",
              "      <td>790.0</td>\n",
              "      <td>785.0</td>\n",
              "    </tr>\n",
              "    <tr>\n",
              "      <th>1</th>\n",
              "      <td>3.687564e+09</td>\n",
              "      <td>3.663588e+09</td>\n",
              "      <td>3.420430e+09</td>\n",
              "      <td>3.265963e+09</td>\n",
              "      <td>3.465058e+09</td>\n",
              "      <td>NaN</td>\n",
              "      <td>2394.0</td>\n",
              "      <td>2494.0</td>\n",
              "      <td>2548.0</td>\n",
              "    </tr>\n",
              "    <tr>\n",
              "      <th>2</th>\n",
              "      <td>3.139300e+09</td>\n",
              "      <td>3.214000e+09</td>\n",
              "      <td>3.196900e+09</td>\n",
              "      <td>3.193700e+09</td>\n",
              "      <td>3.166000e+09</td>\n",
              "      <td>6411.0</td>\n",
              "      <td>6506.0</td>\n",
              "      <td>7750.0</td>\n",
              "      <td>NaN</td>\n",
              "    </tr>\n",
              "    <tr>\n",
              "      <th>3</th>\n",
              "      <td>1.994112e+09</td>\n",
              "      <td>2.023348e+09</td>\n",
              "      <td>1.982028e+09</td>\n",
              "      <td>2.007387e+09</td>\n",
              "      <td>2.009031e+09</td>\n",
              "      <td>NaN</td>\n",
              "      <td>1925.0</td>\n",
              "      <td>1995.0</td>\n",
              "      <td>2050.0</td>\n",
              "    </tr>\n",
              "    <tr>\n",
              "      <th>4</th>\n",
              "      <td>7.612489e+08</td>\n",
              "      <td>1.121284e+09</td>\n",
              "      <td>1.245810e+09</td>\n",
              "      <td>1.317865e+09</td>\n",
              "      <td>1.779402e+09</td>\n",
              "      <td>NaN</td>\n",
              "      <td>5159.0</td>\n",
              "      <td>5599.0</td>\n",
              "      <td>5483.0</td>\n",
              "    </tr>\n",
              "    <tr>\n",
              "      <th>...</th>\n",
              "      <td>...</td>\n",
              "      <td>...</td>\n",
              "      <td>...</td>\n",
              "      <td>...</td>\n",
              "      <td>...</td>\n",
              "      <td>...</td>\n",
              "      <td>...</td>\n",
              "      <td>...</td>\n",
              "      <td>...</td>\n",
              "    </tr>\n",
              "    <tr>\n",
              "      <th>17419</th>\n",
              "      <td>NaN</td>\n",
              "      <td>NaN</td>\n",
              "      <td>NaN</td>\n",
              "      <td>NaN</td>\n",
              "      <td>NaN</td>\n",
              "      <td>NaN</td>\n",
              "      <td>NaN</td>\n",
              "      <td>100.0</td>\n",
              "      <td>99.0</td>\n",
              "    </tr>\n",
              "    <tr>\n",
              "      <th>17420</th>\n",
              "      <td>NaN</td>\n",
              "      <td>NaN</td>\n",
              "      <td>NaN</td>\n",
              "      <td>NaN</td>\n",
              "      <td>NaN</td>\n",
              "      <td>NaN</td>\n",
              "      <td>171.0</td>\n",
              "      <td>175.0</td>\n",
              "      <td>165.0</td>\n",
              "    </tr>\n",
              "    <tr>\n",
              "      <th>17421</th>\n",
              "      <td>7.793100e+04</td>\n",
              "      <td>5.968600e+04</td>\n",
              "      <td>2.830900e+04</td>\n",
              "      <td>1.306000e+03</td>\n",
              "      <td>NaN</td>\n",
              "      <td>NaN</td>\n",
              "      <td>NaN</td>\n",
              "      <td>NaN</td>\n",
              "      <td>12.0</td>\n",
              "    </tr>\n",
              "    <tr>\n",
              "      <th>17422</th>\n",
              "      <td>3.068900e+04</td>\n",
              "      <td>6.182000e+03</td>\n",
              "      <td>1.429000e+03</td>\n",
              "      <td>NaN</td>\n",
              "      <td>NaN</td>\n",
              "      <td>NaN</td>\n",
              "      <td>NaN</td>\n",
              "      <td>NaN</td>\n",
              "      <td>7.0</td>\n",
              "    </tr>\n",
              "    <tr>\n",
              "      <th>17423</th>\n",
              "      <td>3.959960e+05</td>\n",
              "      <td>3.019910e+05</td>\n",
              "      <td>4.010210e+05</td>\n",
              "      <td>NaN</td>\n",
              "      <td>NaN</td>\n",
              "      <td>NaN</td>\n",
              "      <td>NaN</td>\n",
              "      <td>6.0</td>\n",
              "      <td>NaN</td>\n",
              "    </tr>\n",
              "  </tbody>\n",
              "</table>\n",
              "<p>17424 rows × 9 columns</p>\n",
              "</div>"
            ],
            "text/plain": [
              "       Revenue_2015  Revenue_2016  ...  Employees_2019  Employees_2020\n",
              "0      1.903978e+10  2.467163e+10  ...           790.0           785.0\n",
              "1      3.687564e+09  3.663588e+09  ...          2494.0          2548.0\n",
              "2      3.139300e+09  3.214000e+09  ...          7750.0             NaN\n",
              "3      1.994112e+09  2.023348e+09  ...          1995.0          2050.0\n",
              "4      7.612489e+08  1.121284e+09  ...          5599.0          5483.0\n",
              "...             ...           ...  ...             ...             ...\n",
              "17419           NaN           NaN  ...           100.0            99.0\n",
              "17420           NaN           NaN  ...           175.0           165.0\n",
              "17421  7.793100e+04  5.968600e+04  ...             NaN            12.0\n",
              "17422  3.068900e+04  6.182000e+03  ...             NaN             7.0\n",
              "17423  3.959960e+05  3.019910e+05  ...             6.0             NaN\n",
              "\n",
              "[17424 rows x 9 columns]"
            ]
          },
          "metadata": {
            "tags": []
          },
          "execution_count": 120
        }
      ]
    },
    {
      "cell_type": "markdown",
      "metadata": {
        "id": "pRrAO1hpeEPV"
      },
      "source": [
        "# Explore Data"
      ]
    },
    {
      "cell_type": "markdown",
      "metadata": {
        "id": "YL_ePYIsewWQ"
      },
      "source": [
        "## Check NaNs"
      ]
    },
    {
      "cell_type": "code",
      "metadata": {
        "colab": {
          "base_uri": "https://localhost:8080/"
        },
        "id": "8D_BHZ3JeFRR",
        "outputId": "805f9f9c-274f-434b-e449-8407f987d6ab"
      },
      "source": [
        "print('Number of missing values per column (%)')\n",
        "print(np.round(df.isnull().sum(axis = 0).sort_values(ascending = False)/len(df),2))"
      ],
      "execution_count": 46,
      "outputs": [
        {
          "output_type": "stream",
          "text": [
            "Number of missing values per column (%)\n",
            "Employees_2017    0.87\n",
            "Employees_2018    0.66\n",
            "Employees_2020    0.44\n",
            "Revenue_2019      0.42\n",
            "Revenue_2015      0.41\n",
            "Revenue_2016      0.34\n",
            "Revenue_2017      0.29\n",
            "Employees_2019    0.25\n",
            "Revenue_2018      0.23\n",
            "dtype: float64\n"
          ],
          "name": "stdout"
        }
      ]
    },
    {
      "cell_type": "markdown",
      "metadata": {
        "id": "bq1bP7ekB3Ut"
      },
      "source": [
        "We can see that there are two columns with a really high percentage of missing values. Since we don't have many features, we can't get rid of them."
      ]
    },
    {
      "cell_type": "code",
      "metadata": {
        "colab": {
          "base_uri": "https://localhost:8080/"
        },
        "id": "6lMg9rVWe5Bs",
        "outputId": "f3d4f3a3-5860-46d2-8310-c080afd92603"
      },
      "source": [
        "print('Count rows per number of missing values')\n",
        "print(df.isnull().sum(axis = 1).value_counts())"
      ],
      "execution_count": 35,
      "outputs": [
        {
          "output_type": "stream",
          "text": [
            "Count rows per number of missing values\n",
            "3    3754\n",
            "4    2585\n",
            "7    2502\n",
            "5    2341\n",
            "1    2262\n",
            "6    1966\n",
            "2    1224\n",
            "0     652\n",
            "8     138\n",
            "dtype: int64\n"
          ],
          "name": "stdout"
        }
      ]
    },
    {
      "cell_type": "markdown",
      "metadata": {
        "id": "ARI8nEy7DG_Q"
      },
      "source": [
        "We could consider using only complete rows or rows with a low number of missing values, but we can see that this would not be a large enough sample."
      ]
    },
    {
      "cell_type": "markdown",
      "metadata": {
        "id": "-ctmHalTDen4"
      },
      "source": [
        "## Check Distributions"
      ]
    },
    {
      "cell_type": "code",
      "metadata": {
        "colab": {
          "base_uri": "https://localhost:8080/"
        },
        "id": "Vk0c_v3xgklq",
        "outputId": "4743cba4-a5ed-45d2-eec3-4bd6c1106910"
      },
      "source": [
        "print('Means for each column:')\n",
        "print(np.mean(df))"
      ],
      "execution_count": 148,
      "outputs": [
        {
          "output_type": "stream",
          "text": [
            "Means for each column:\n",
            "Revenue_2015      3.234836e+07\n",
            "Revenue_2016      3.143218e+07\n",
            "Revenue_2017      3.201143e+07\n",
            "Revenue_2018      3.330670e+07\n",
            "Revenue_2019      4.220523e+07\n",
            "Employees_2017    1.905321e+02\n",
            "Employees_2018    3.085079e+02\n",
            "Employees_2019    1.543157e+02\n",
            "Employees_2020    1.871750e+02\n",
            "dtype: float64\n"
          ],
          "name": "stdout"
        }
      ]
    },
    {
      "cell_type": "code",
      "metadata": {
        "colab": {
          "base_uri": "https://localhost:8080/"
        },
        "id": "e4kU2fLHhcwE",
        "outputId": "36d462aa-7ec6-40a5-836d-657dd06dc910"
      },
      "source": [
        "print('Median for each column:')\n",
        "print(np.nanmedian(df, axis = 0))"
      ],
      "execution_count": 150,
      "outputs": [
        {
          "output_type": "stream",
          "text": [
            "Median for each column:\n",
            "[1.375000e+06 1.262523e+06 1.238581e+06 1.177637e+06 1.412388e+06\n",
            " 6.800000e+01 6.500000e+01 2.300000e+01 3.400000e+01]\n"
          ],
          "name": "stdout"
        }
      ]
    },
    {
      "cell_type": "markdown",
      "metadata": {
        "id": "njKvvw02HR8D"
      },
      "source": [
        "From the means and medians we can already know that the distributions are not perfectly normal. In fact, they are right-skewed, as we can see in the figures below."
      ]
    },
    {
      "cell_type": "code",
      "metadata": {
        "colab": {
          "base_uri": "https://localhost:8080/",
          "height": 317
        },
        "id": "eU4n_EwjIovu",
        "outputId": "7114f798-b5f4-48bb-bae9-0d06cf9fb97d"
      },
      "source": [
        "print('Revenues example plot')\n",
        "# We scale to be able to display the plot properly\n",
        "rev = df['Revenue_2018']\n",
        "scale_rev = rev/rev.max()\n",
        "fig, ax = plt.subplots()\n",
        "sb.distplot(scale_rev, hist = False, rug = True, rug_kws={'color': 'black'}, ax=ax)\n",
        "ax.set_xlim(-0.01,0.1)"
      ],
      "execution_count": 179,
      "outputs": [
        {
          "output_type": "stream",
          "text": [
            "Revenues example plot\n"
          ],
          "name": "stdout"
        },
        {
          "output_type": "execute_result",
          "data": {
            "text/plain": [
              "(-0.01, 0.1)"
            ]
          },
          "metadata": {
            "tags": []
          },
          "execution_count": 179
        },
        {
          "output_type": "display_data",
          "data": {
            "image/png": "[encoded data removed]",
            "text/plain": [
              "<Figure size 432x288 with 1 Axes>"
            ]
          },
          "metadata": {
            "tags": [],
            "needs_background": "light"
          }
        }
      ]
    },
    {
      "cell_type": "code",
      "metadata": {
        "colab": {
          "base_uri": "https://localhost:8080/",
          "height": 317
        },
        "id": "ekoXspBAHYY5",
        "outputId": "0b88e23b-ffeb-4b28-b4ec-824dec773188"
      },
      "source": [
        "print('Employees example plot')\n",
        "fig, ax = plt.subplots()\n",
        "sb.distplot(df['Employees_2018'], hist = False, rug = True, rug_kws={'color': 'black'}, ax=ax)"
      ],
      "execution_count": 180,
      "outputs": [
        {
          "output_type": "stream",
          "text": [
            "Employees example plot\n"
          ],
          "name": "stdout"
        },
        {
          "output_type": "execute_result",
          "data": {
            "text/plain": [
              "<matplotlib.axes._subplots.AxesSubplot at 0x7f8ad9c234d0>"
            ]
          },
          "metadata": {
            "tags": []
          },
          "execution_count": 180
        },
        {
          "output_type": "display_data",
          "data": {
            "image/png": "[encoded data removed]",
            "text/plain": [
              "<Figure size 432x288 with 1 Axes>"
            ]
          },
          "metadata": {
            "tags": [],
            "needs_background": "light"
          }
        }
      ]
    },
    {
      "cell_type": "markdown",
      "metadata": {
        "id": "_QFWzK9WKSiD"
      },
      "source": [
        "We can think that a logarithmic transformation would be useful to obtain normal distributions, and indeed they are obtained. However, we cannot forget that revenues can have negative values, and even the number of employees is sometimes zero, so we cannot perform this transformation."
      ]
    },
    {
      "cell_type": "markdown",
      "metadata": {
        "id": "FjqPV7qQjp96"
      },
      "source": [
        "# Prepare Data"
      ]
    },
    {
      "cell_type": "markdown",
      "metadata": {
        "id": "eDTt8VNwMz7w"
      },
      "source": [
        "This problem can be faced in different ways. In this case, we have decided to take it as a supervised learning problem, in which we will use the revenues and employees data from the last 3 years available to predict the next year's revenues. We will train the model to predict 2019 revenues and use those parameters to predict 2020 revenues, taking into account that the data will be shifted by one year. This is probably not the optimal solution, but we believe that it might give some acceptable results."
      ]
    },
    {
      "cell_type": "markdown",
      "metadata": {
        "id": "00ESsfUxk0_H"
      },
      "source": [
        "To train the model we will use only rows that have revenue values in 2019 in order to not introduce some bias when we impute 2019 data. This is a little more than 10000 rows, so it seems a reasonable sample."
      ]
    },
    {
      "cell_type": "code",
      "metadata": {
        "id": "DMsfsVRUj0JX"
      },
      "source": [
        "# Train with data we can test in 2019\n",
        "complete_df = df.dropna(subset=['Revenue_2019'])\n",
        "train_df_2019 = complete_df.drop(['Revenue_2015','Employees_2020'], axis=1)\n",
        "# Split in Training and Validation\n",
        "X = train_df_2019.drop(['Revenue_2019'], axis=1)\n",
        "y = train_df_2019['Revenue_2019']\n",
        "X_train, X_val, y_train, y_val = train_test_split(X, y, test_size=0.3, random_state=0)"
      ],
      "execution_count": 49,
      "outputs": []
    },
    {
      "cell_type": "markdown",
      "metadata": {
        "id": "LkKWwgIYNhjD"
      },
      "source": [
        "We split the data into train and validation at 70-30."
      ]
    },
    {
      "cell_type": "code",
      "metadata": {
        "colab": {
          "base_uri": "https://localhost:8080/",
          "height": 424
        },
        "id": "uugm7DmQj9Pj",
        "outputId": "5fe56d81-5ae2-4f38-fa1c-e4c56e56a1a2"
      },
      "source": [
        "X_train"
      ],
      "execution_count": 50,
      "outputs": [
        {
          "output_type": "execute_result",
          "data": {
            "text/html": [
              "<div>\n",
              "<style scoped>\n",
              "    .dataframe tbody tr th:only-of-type {\n",
              "        vertical-align: middle;\n",
              "    }\n",
              "\n",
              "    .dataframe tbody tr th {\n",
              "        vertical-align: top;\n",
              "    }\n",
              "\n",
              "    .dataframe thead th {\n",
              "        text-align: right;\n",
              "    }\n",
              "</style>\n",
              "<table border=\"1\" class=\"dataframe\">\n",
              "  <thead>\n",
              "    <tr style=\"text-align: right;\">\n",
              "      <th></th>\n",
              "      <th>Revenue_2016</th>\n",
              "      <th>Revenue_2017</th>\n",
              "      <th>Revenue_2018</th>\n",
              "      <th>Employees_2017</th>\n",
              "      <th>Employees_2018</th>\n",
              "      <th>Employees_2019</th>\n",
              "    </tr>\n",
              "  </thead>\n",
              "  <tbody>\n",
              "    <tr>\n",
              "      <th>14710</th>\n",
              "      <td>32523862.0</td>\n",
              "      <td>28348980.0</td>\n",
              "      <td>38320539.0</td>\n",
              "      <td>NaN</td>\n",
              "      <td>NaN</td>\n",
              "      <td>16.0</td>\n",
              "    </tr>\n",
              "    <tr>\n",
              "      <th>10911</th>\n",
              "      <td>NaN</td>\n",
              "      <td>50000.0</td>\n",
              "      <td>16000.0</td>\n",
              "      <td>NaN</td>\n",
              "      <td>NaN</td>\n",
              "      <td>NaN</td>\n",
              "    </tr>\n",
              "    <tr>\n",
              "      <th>5269</th>\n",
              "      <td>481865.0</td>\n",
              "      <td>594584.0</td>\n",
              "      <td>605859.0</td>\n",
              "      <td>NaN</td>\n",
              "      <td>NaN</td>\n",
              "      <td>9.0</td>\n",
              "    </tr>\n",
              "    <tr>\n",
              "      <th>2967</th>\n",
              "      <td>16912814.0</td>\n",
              "      <td>14486911.0</td>\n",
              "      <td>15408996.0</td>\n",
              "      <td>42.0</td>\n",
              "      <td>46.0</td>\n",
              "      <td>47.0</td>\n",
              "    </tr>\n",
              "    <tr>\n",
              "      <th>6109</th>\n",
              "      <td>291893.0</td>\n",
              "      <td>246113.0</td>\n",
              "      <td>151684.0</td>\n",
              "      <td>NaN</td>\n",
              "      <td>NaN</td>\n",
              "      <td>NaN</td>\n",
              "    </tr>\n",
              "    <tr>\n",
              "      <th>...</th>\n",
              "      <td>...</td>\n",
              "      <td>...</td>\n",
              "      <td>...</td>\n",
              "      <td>...</td>\n",
              "      <td>...</td>\n",
              "      <td>...</td>\n",
              "    </tr>\n",
              "    <tr>\n",
              "      <th>15948</th>\n",
              "      <td>55028.0</td>\n",
              "      <td>285693.0</td>\n",
              "      <td>572158.0</td>\n",
              "      <td>NaN</td>\n",
              "      <td>NaN</td>\n",
              "      <td>NaN</td>\n",
              "    </tr>\n",
              "    <tr>\n",
              "      <th>6720</th>\n",
              "      <td>59252.0</td>\n",
              "      <td>52012.0</td>\n",
              "      <td>91566.0</td>\n",
              "      <td>NaN</td>\n",
              "      <td>NaN</td>\n",
              "      <td>11.0</td>\n",
              "    </tr>\n",
              "    <tr>\n",
              "      <th>4681</th>\n",
              "      <td>137975.0</td>\n",
              "      <td>136430.0</td>\n",
              "      <td>222236.0</td>\n",
              "      <td>NaN</td>\n",
              "      <td>31.0</td>\n",
              "      <td>30.0</td>\n",
              "    </tr>\n",
              "    <tr>\n",
              "      <th>16740</th>\n",
              "      <td>8914.0</td>\n",
              "      <td>86429.0</td>\n",
              "      <td>223014.0</td>\n",
              "      <td>NaN</td>\n",
              "      <td>NaN</td>\n",
              "      <td>13.0</td>\n",
              "    </tr>\n",
              "    <tr>\n",
              "      <th>4017</th>\n",
              "      <td>NaN</td>\n",
              "      <td>2880489.0</td>\n",
              "      <td>3105313.0</td>\n",
              "      <td>38.0</td>\n",
              "      <td>41.0</td>\n",
              "      <td>42.0</td>\n",
              "    </tr>\n",
              "  </tbody>\n",
              "</table>\n",
              "<p>7067 rows × 6 columns</p>\n",
              "</div>"
            ],
            "text/plain": [
              "       Revenue_2016  Revenue_2017  ...  Employees_2018  Employees_2019\n",
              "14710    32523862.0    28348980.0  ...             NaN            16.0\n",
              "10911           NaN       50000.0  ...             NaN             NaN\n",
              "5269       481865.0      594584.0  ...             NaN             9.0\n",
              "2967     16912814.0    14486911.0  ...            46.0            47.0\n",
              "6109       291893.0      246113.0  ...             NaN             NaN\n",
              "...             ...           ...  ...             ...             ...\n",
              "15948       55028.0      285693.0  ...             NaN             NaN\n",
              "6720        59252.0       52012.0  ...             NaN            11.0\n",
              "4681       137975.0      136430.0  ...            31.0            30.0\n",
              "16740        8914.0       86429.0  ...             NaN            13.0\n",
              "4017            NaN     2880489.0  ...            41.0            42.0\n",
              "\n",
              "[7067 rows x 6 columns]"
            ]
          },
          "metadata": {
            "tags": []
          },
          "execution_count": 50
        }
      ]
    },
    {
      "cell_type": "code",
      "metadata": {
        "colab": {
          "base_uri": "https://localhost:8080/"
        },
        "id": "86u0cSQjkF2G",
        "outputId": "c862bff8-13d0-4b1c-e5a7-f001db8bba15"
      },
      "source": [
        "print(\"Validation Mean:\", '%.3E' % Decimal(np.mean(y_val)))\n",
        "print(\"Validation Median:\",'%.3E' % Decimal(np.median(y_val)))"
      ],
      "execution_count": 51,
      "outputs": [
        {
          "output_type": "stream",
          "text": [
            "Validation Mean: 3.914E+07\n",
            "Validation Median: 1.503E+06\n"
          ],
          "name": "stdout"
        }
      ]
    },
    {
      "cell_type": "markdown",
      "metadata": {
        "id": "FA3mWdl7kLkk"
      },
      "source": [
        "# Naive Test (t1)"
      ]
    },
    {
      "cell_type": "markdown",
      "metadata": {
        "id": "rGkBFAm-kO_F"
      },
      "source": [
        "We first try a basic prediction to see if our model is working.\n",
        "We use 2018 revenue as prediction for 2019 revenue.\n",
        "As there are only 10 % missing values in the revenue_2018 column, we can assume that the type of imputer will not have much influence on this first naive estimate. Therefore we use a simple KNNImputer with n_neighbors = 2."
      ]
    },
    {
      "cell_type": "code",
      "metadata": {
        "colab": {
          "base_uri": "https://localhost:8080/"
        },
        "id": "-Sq9OCuilkPh",
        "outputId": "f0c9a00f-1612-45f0-97b4-e537df9f68e5"
      },
      "source": [
        "print('Number of missing values per column in train data')\n",
        "np.round(X_train.isnull().sum(axis = 0).sort_values(ascending = False)/len(X_train),2)"
      ],
      "execution_count": 54,
      "outputs": [
        {
          "output_type": "stream",
          "text": [
            "Number of missing values per column in train data\n"
          ],
          "name": "stdout"
        },
        {
          "output_type": "execute_result",
          "data": {
            "text/plain": [
              "Employees_2017    0.86\n",
              "Employees_2018    0.63\n",
              "Revenue_2016      0.28\n",
              "Employees_2019    0.24\n",
              "Revenue_2017      0.18\n",
              "Revenue_2018      0.10\n",
              "dtype: float64"
            ]
          },
          "metadata": {
            "tags": []
          },
          "execution_count": 54
        }
      ]
    },
    {
      "cell_type": "code",
      "metadata": {
        "id": "aFRVuRC2kOY-"
      },
      "source": [
        "# KNN Imputer\n",
        "imputer = KNNImputer(n_neighbors=2)\n",
        "X_train_t1 = imputer.fit(X_train)\n",
        "X_val_t1 = imputer.transform(X_val)\n",
        "# Get original indices\n",
        "df_val_t1 = pd.DataFrame(X_val_t1, index=X_val.index, columns=X_val.columns)\n",
        "# Prediction\n",
        "y_val_pred_t1 = df_val_t1['Revenue_2018']"
      ],
      "execution_count": 57,
      "outputs": []
    },
    {
      "cell_type": "code",
      "metadata": {
        "colab": {
          "base_uri": "https://localhost:8080/"
        },
        "id": "wyRMeJ8pmIm5",
        "outputId": "591b64a2-ba81-46c9-93b2-3f2cc82f9d9a"
      },
      "source": [
        "print(\"MAE =\", '%.3E' % Decimal(mean_absolute_error(y_val, y_val_pred_t1)))\n",
        "print(\"RMSE =\", '%.3E' % Decimal(mean_squared_error(y_val, y_val_pred_t1, squared = True)))"
      ],
      "execution_count": 58,
      "outputs": [
        {
          "output_type": "stream",
          "text": [
            "MAE = 2.422E+07\n",
            "RMSE = 1.062E+17\n"
          ],
          "name": "stdout"
        }
      ]
    },
    {
      "cell_type": "code",
      "metadata": {
        "colab": {
          "base_uri": "https://localhost:8080/",
          "height": 295
        },
        "id": "Dvx5Xcw3tQS8",
        "outputId": "f86c6b71-d225-4029-92a8-a631b94194eb"
      },
      "source": [
        "plt.scatter(y_val, y_val_pred_t1)\n",
        "plt.xlabel('True Values')\n",
        "plt.ylabel('Predictions')\n",
        "plt.title('True values vs Predictions')\n",
        "plt.plot(y_val, y_val, color = 'red', label = 'y=x')\n",
        "plt.show()"
      ],
      "execution_count": 79,
      "outputs": [
        {
          "output_type": "display_data",
          "data": {
            "image/png": "[encoded data removed]",
            "text/plain": [
              "<Figure size 432x288 with 1 Axes>"
            ]
          },
          "metadata": {
            "tags": [],
            "needs_background": "light"
          }
        }
      ]
    },
    {
      "cell_type": "markdown",
      "metadata": {
        "id": "hIDQjbojPQ2h"
      },
      "source": [
        "We can see that our naive estimation works quite well on much of the data, but has large errors. This can also be seen in the large difference between the MAE and the RMSE, which penalises larger errors more heavily."
      ]
    },
    {
      "cell_type": "markdown",
      "metadata": {
        "id": "MgnLagUJtWZ0"
      },
      "source": [
        "# Prediction using Random Forest (t2)"
      ]
    },
    {
      "cell_type": "markdown",
      "metadata": {
        "id": "yFqNxirGTVxe"
      },
      "source": [
        "Here we set up a pipeline with different steps. Then we create a parameter grid with a few values that we are going to train with a GridSearch and a cross validation with KFold = 3. \n",
        "We introduce the option to scale the data, as this might help in some cases to impute missing values. We also give two different options for imputation. Finally we give 3 different options in the min_samples_leaf and min_samples_split parameters of the Random Forest. We could add many more options, but we want to use the GridSearch and making it more complicated would add a lot of computation time. To train the model we use neg_mean_absolute_error, as that is the value we want to minimise in this case.\n",
        "\n"
      ]
    },
    {
      "cell_type": "code",
      "metadata": {
        "id": "us5LgfkxtZnr"
      },
      "source": [
        "#Pipeline\n",
        "\n",
        "#Steps of the pipeline\n",
        "steps = [('scaler', MinMaxScaler()),\n",
        "         ('imputation', KNNImputer(n_neighbors=2)),\n",
        "         ('regressor', RandomForestRegressor())]\n",
        "\n",
        "#Create the pipeline\n",
        "pipeline = Pipeline(steps)\n",
        "\n",
        "# random.seed = 0 for reproducibility\n",
        "np.random.seed(0)\n",
        "\n",
        "#Specify the hyperparameter space\n",
        "param_grid = {'scaler': [MinMaxScaler(), None],\n",
        "              'imputation': [ KNNImputer(), IterativeImputer(random_state=0)],\n",
        "              'regressor__max_depth':[30, 60, None],\n",
        "              'regressor__min_samples_leaf': [1, 2, 4],\n",
        "              'regressor__min_samples_split':[2, 5, 10],\n",
        "              'regressor': [RandomForestRegressor()]}\n",
        "\n",
        "\n",
        "# Create the Grid SearchCV object\n",
        "pipeline_model = GridSearchCV(pipeline,\n",
        "                              param_grid = param_grid,\n",
        "                              scoring = 'neg_mean_absolute_error',\n",
        "                              cv=3)\n",
        "\n",
        "# Fit to the training set\n",
        "gd_cv = pipeline_model.fit(X=X_train, y = y_train)\n",
        "\n",
        "# Predict\n",
        "y_val_pred_t2 = pipeline_model.predict(X_val)"
      ],
      "execution_count": null,
      "outputs": []
    },
    {
      "cell_type": "code",
      "metadata": {
        "colab": {
          "base_uri": "https://localhost:8080/"
        },
        "id": "Dd5EW_RhtkYO",
        "outputId": "5595e3fa-203c-4ae5-8c8e-fe73a7eac696"
      },
      "source": [
        "print(\"Best parameters :\", pipeline_model.best_params_)"
      ],
      "execution_count": 182,
      "outputs": [
        {
          "output_type": "stream",
          "text": [
            "Best parameters : {'imputation': IterativeImputer(add_indicator=False, estimator=None,\n",
            "                 imputation_order='ascending', initial_strategy='mean',\n",
            "                 max_iter=10, max_value=None, min_value=None,\n",
            "                 missing_values=nan, n_nearest_features=None, random_state=0,\n",
            "                 sample_posterior=False, skip_complete=False, tol=0.001,\n",
            "                 verbose=0), 'regressor': RandomForestRegressor(bootstrap=True, ccp_alpha=0.0, criterion='mse',\n",
            "                      max_depth=None, max_features='auto', max_leaf_nodes=None,\n",
            "                      max_samples=None, min_impurity_decrease=0.0,\n",
            "                      min_impurity_split=None, min_samples_leaf=1,\n",
            "                      min_samples_split=2, min_weight_fraction_leaf=0.0,\n",
            "                      n_estimators=100, n_jobs=None, oob_score=False,\n",
            "                      random_state=None, verbose=0, warm_start=False), 'regressor__max_depth': None, 'regressor__min_samples_leaf': 1, 'regressor__min_samples_split': 2, 'scaler': None}\n"
          ],
          "name": "stdout"
        }
      ]
    },
    {
      "cell_type": "markdown",
      "metadata": {
        "id": "MrsYXvpBTxgv"
      },
      "source": [
        "We can see that the best parameters are without the scaler, with the IterativeImputer and with the default parameters of the RandomForestRegressor."
      ]
    },
    {
      "cell_type": "code",
      "metadata": {
        "colab": {
          "base_uri": "https://localhost:8080/"
        },
        "id": "zOk2L0yptlZf",
        "outputId": "df757a33-49f3-43ec-f01e-fc2834d5fb39"
      },
      "source": [
        "print(\"MAE =\", '%.3E' % Decimal(mean_absolute_error(y_val, y_val_pred_t2)))\n",
        "print(\"RMSE =\", '%.3E' % Decimal(mean_squared_error(y_val, y_val_pred_t2, squared = True)))"
      ],
      "execution_count": 99,
      "outputs": [
        {
          "output_type": "stream",
          "text": [
            "MAE = 7.784E+06\n",
            "RMSE = 5.400E+15\n"
          ],
          "name": "stdout"
        }
      ]
    },
    {
      "cell_type": "code",
      "metadata": {
        "colab": {
          "base_uri": "https://localhost:8080/",
          "height": 295
        },
        "id": "3JP8m1cDtmdq",
        "outputId": "edf5b1c9-a06b-4657-90ca-de5c817994e6"
      },
      "source": [
        "plt.title('True values vs Predictions')\n",
        "plt.scatter(y_val, y_val_pred_t2)\n",
        "plt.xlabel('True Values')\n",
        "plt.ylabel('Predictions')\n",
        "plt.plot(y_val, y_val, color = 'red', label = 'y=x')\n",
        "plt.show()"
      ],
      "execution_count": 181,
      "outputs": [
        {
          "output_type": "display_data",
          "data": {
            "image/png": "[encoded data removed]",
            "text/plain": [
              "<Figure size 432x288 with 1 Axes>"
            ]
          },
          "metadata": {
            "tags": [],
            "needs_background": "light"
          }
        }
      ]
    },
    {
      "cell_type": "markdown",
      "metadata": {
        "id": "QwKmkDlqUHWE"
      },
      "source": [
        ""
      ]
    },
    {
      "cell_type": "code",
      "metadata": {
        "id": "KkJuJqPvz2AX"
      },
      "source": [
        "results_RF = pd.DataFrame(gd_cv.cv_results_['params'])\n",
        "results_RF['test_score'] = gd_cv.cv_results_['mean_test_score']"
      ],
      "execution_count": 101,
      "outputs": []
    },
    {
      "cell_type": "markdown",
      "metadata": {
        "id": "rdHTmEsTVCu8"
      },
      "source": [
        "Regarding the results, we can see from the graph that the large errors made by our naive estimator have been fixed. This can be seen in the two orders of magnitude reduction in the RMSE. However, in terms of MAE the reduction has not been as large as could be expected at first."
      ]
    },
    {
      "cell_type": "markdown",
      "metadata": {
        "id": "l7nyouCCts01"
      },
      "source": [
        "# Final Prediction"
      ]
    },
    {
      "cell_type": "markdown",
      "metadata": {
        "id": "-7v1r-_VWj4S"
      },
      "source": [
        "Finally, and despite the slight improvements in the results, we cannot forget that the parameters obtained for 2019 are what will be used in the 2020 forecast. The performance of this one-year shift should be tested beforehand, if possible, with data from previous years."
      ]
    },
    {
      "cell_type": "code",
      "metadata": {
        "id": "tLueWMuLtuoI"
      },
      "source": [
        "final_df = raw_df.drop(['NAME', 'Revenue_2015', 'Revenue_2016', 'Employees_2017','Revenue_2020(To predict)'], axis=1)"
      ],
      "execution_count": 108,
      "outputs": []
    },
    {
      "cell_type": "code",
      "metadata": {
        "colab": {
          "base_uri": "https://localhost:8080/",
          "height": 424
        },
        "id": "1KtdAd4_twsi",
        "outputId": "22ca5c45-82da-4776-e946-264727845d74"
      },
      "source": [
        "final_df"
      ],
      "execution_count": 109,
      "outputs": [
        {
          "output_type": "execute_result",
          "data": {
            "text/html": [
              "<div>\n",
              "<style scoped>\n",
              "    .dataframe tbody tr th:only-of-type {\n",
              "        vertical-align: middle;\n",
              "    }\n",
              "\n",
              "    .dataframe tbody tr th {\n",
              "        vertical-align: top;\n",
              "    }\n",
              "\n",
              "    .dataframe thead th {\n",
              "        text-align: right;\n",
              "    }\n",
              "</style>\n",
              "<table border=\"1\" class=\"dataframe\">\n",
              "  <thead>\n",
              "    <tr style=\"text-align: right;\">\n",
              "      <th></th>\n",
              "      <th>Revenue_2017</th>\n",
              "      <th>Revenue_2018</th>\n",
              "      <th>Revenue_2019</th>\n",
              "      <th>Employees_2018</th>\n",
              "      <th>Employees_2019</th>\n",
              "      <th>Employees_2020</th>\n",
              "    </tr>\n",
              "  </thead>\n",
              "  <tbody>\n",
              "    <tr>\n",
              "      <th>0</th>\n",
              "      <td>2.457376e+10</td>\n",
              "      <td>2.260886e+10</td>\n",
              "      <td>2.657454e+10</td>\n",
              "      <td>805.0</td>\n",
              "      <td>790.0</td>\n",
              "      <td>785.0</td>\n",
              "    </tr>\n",
              "    <tr>\n",
              "      <th>1</th>\n",
              "      <td>3.420430e+09</td>\n",
              "      <td>3.265963e+09</td>\n",
              "      <td>3.465058e+09</td>\n",
              "      <td>2394.0</td>\n",
              "      <td>2494.0</td>\n",
              "      <td>2548.0</td>\n",
              "    </tr>\n",
              "    <tr>\n",
              "      <th>2</th>\n",
              "      <td>3.196900e+09</td>\n",
              "      <td>3.193700e+09</td>\n",
              "      <td>3.166000e+09</td>\n",
              "      <td>6506.0</td>\n",
              "      <td>7750.0</td>\n",
              "      <td>NaN</td>\n",
              "    </tr>\n",
              "    <tr>\n",
              "      <th>3</th>\n",
              "      <td>1.982028e+09</td>\n",
              "      <td>2.007387e+09</td>\n",
              "      <td>2.009031e+09</td>\n",
              "      <td>1925.0</td>\n",
              "      <td>1995.0</td>\n",
              "      <td>2050.0</td>\n",
              "    </tr>\n",
              "    <tr>\n",
              "      <th>4</th>\n",
              "      <td>1.245810e+09</td>\n",
              "      <td>1.317865e+09</td>\n",
              "      <td>1.779402e+09</td>\n",
              "      <td>5159.0</td>\n",
              "      <td>5599.0</td>\n",
              "      <td>5483.0</td>\n",
              "    </tr>\n",
              "    <tr>\n",
              "      <th>...</th>\n",
              "      <td>...</td>\n",
              "      <td>...</td>\n",
              "      <td>...</td>\n",
              "      <td>...</td>\n",
              "      <td>...</td>\n",
              "      <td>...</td>\n",
              "    </tr>\n",
              "    <tr>\n",
              "      <th>17419</th>\n",
              "      <td>NaN</td>\n",
              "      <td>NaN</td>\n",
              "      <td>NaN</td>\n",
              "      <td>NaN</td>\n",
              "      <td>100.0</td>\n",
              "      <td>99.0</td>\n",
              "    </tr>\n",
              "    <tr>\n",
              "      <th>17420</th>\n",
              "      <td>NaN</td>\n",
              "      <td>NaN</td>\n",
              "      <td>NaN</td>\n",
              "      <td>171.0</td>\n",
              "      <td>175.0</td>\n",
              "      <td>165.0</td>\n",
              "    </tr>\n",
              "    <tr>\n",
              "      <th>17421</th>\n",
              "      <td>2.830900e+04</td>\n",
              "      <td>1.306000e+03</td>\n",
              "      <td>NaN</td>\n",
              "      <td>NaN</td>\n",
              "      <td>NaN</td>\n",
              "      <td>12.0</td>\n",
              "    </tr>\n",
              "    <tr>\n",
              "      <th>17422</th>\n",
              "      <td>1.429000e+03</td>\n",
              "      <td>NaN</td>\n",
              "      <td>NaN</td>\n",
              "      <td>NaN</td>\n",
              "      <td>NaN</td>\n",
              "      <td>7.0</td>\n",
              "    </tr>\n",
              "    <tr>\n",
              "      <th>17423</th>\n",
              "      <td>4.010210e+05</td>\n",
              "      <td>NaN</td>\n",
              "      <td>NaN</td>\n",
              "      <td>NaN</td>\n",
              "      <td>6.0</td>\n",
              "      <td>NaN</td>\n",
              "    </tr>\n",
              "  </tbody>\n",
              "</table>\n",
              "<p>17424 rows × 6 columns</p>\n",
              "</div>"
            ],
            "text/plain": [
              "       Revenue_2017  Revenue_2018  ...  Employees_2019  Employees_2020\n",
              "0      2.457376e+10  2.260886e+10  ...           790.0           785.0\n",
              "1      3.420430e+09  3.265963e+09  ...          2494.0          2548.0\n",
              "2      3.196900e+09  3.193700e+09  ...          7750.0             NaN\n",
              "3      1.982028e+09  2.007387e+09  ...          1995.0          2050.0\n",
              "4      1.245810e+09  1.317865e+09  ...          5599.0          5483.0\n",
              "...             ...           ...  ...             ...             ...\n",
              "17419           NaN           NaN  ...           100.0            99.0\n",
              "17420           NaN           NaN  ...           175.0           165.0\n",
              "17421  2.830900e+04  1.306000e+03  ...             NaN            12.0\n",
              "17422  1.429000e+03           NaN  ...             NaN             7.0\n",
              "17423  4.010210e+05           NaN  ...             6.0             NaN\n",
              "\n",
              "[17424 rows x 6 columns]"
            ]
          },
          "metadata": {
            "tags": []
          },
          "execution_count": 109
        }
      ]
    },
    {
      "cell_type": "code",
      "metadata": {
        "id": "Ls8ZFFqJtxlu"
      },
      "source": [
        "final_predict = pipeline_model.predict(final_df)"
      ],
      "execution_count": 110,
      "outputs": []
    },
    {
      "cell_type": "code",
      "metadata": {
        "id": "i58irNeduKJv"
      },
      "source": [
        "raw_df['Revenue_2020(To predict)'] = final_predict"
      ],
      "execution_count": 122,
      "outputs": []
    },
    {
      "cell_type": "code",
      "metadata": {
        "colab": {
          "base_uri": "https://localhost:8080/",
          "height": 461
        },
        "id": "o6R9hdpluPOd",
        "outputId": "837bef48-0bc0-4e6d-bda8-95d378937b08"
      },
      "source": [
        "raw_df"
      ],
      "execution_count": 123,
      "outputs": [
        {
          "output_type": "execute_result",
          "data": {
            "text/html": [
              "<div>\n",
              "<style scoped>\n",
              "    .dataframe tbody tr th:only-of-type {\n",
              "        vertical-align: middle;\n",
              "    }\n",
              "\n",
              "    .dataframe tbody tr th {\n",
              "        vertical-align: top;\n",
              "    }\n",
              "\n",
              "    .dataframe thead th {\n",
              "        text-align: right;\n",
              "    }\n",
              "</style>\n",
              "<table border=\"1\" class=\"dataframe\">\n",
              "  <thead>\n",
              "    <tr style=\"text-align: right;\">\n",
              "      <th></th>\n",
              "      <th>NAME</th>\n",
              "      <th>Revenue_2015</th>\n",
              "      <th>Revenue_2016</th>\n",
              "      <th>Revenue_2017</th>\n",
              "      <th>Revenue_2018</th>\n",
              "      <th>Revenue_2019</th>\n",
              "      <th>Employees_2017</th>\n",
              "      <th>Employees_2018</th>\n",
              "      <th>Employees_2019</th>\n",
              "      <th>Employees_2020</th>\n",
              "      <th>Revenue_2020(To predict)</th>\n",
              "    </tr>\n",
              "  </thead>\n",
              "  <tbody>\n",
              "    <tr>\n",
              "      <th>0</th>\n",
              "      <td>LAKI</td>\n",
              "      <td>1.903978e+10</td>\n",
              "      <td>2.467163e+10</td>\n",
              "      <td>2.457376e+10</td>\n",
              "      <td>2.260886e+10</td>\n",
              "      <td>2.657454e+10</td>\n",
              "      <td>NaN</td>\n",
              "      <td>805.0</td>\n",
              "      <td>790.0</td>\n",
              "      <td>785.0</td>\n",
              "      <td>1.975155e+10</td>\n",
              "    </tr>\n",
              "    <tr>\n",
              "      <th>1</th>\n",
              "      <td>YETS</td>\n",
              "      <td>3.687564e+09</td>\n",
              "      <td>3.663588e+09</td>\n",
              "      <td>3.420430e+09</td>\n",
              "      <td>3.265963e+09</td>\n",
              "      <td>3.465058e+09</td>\n",
              "      <td>NaN</td>\n",
              "      <td>2394.0</td>\n",
              "      <td>2494.0</td>\n",
              "      <td>2548.0</td>\n",
              "      <td>3.473084e+09</td>\n",
              "    </tr>\n",
              "    <tr>\n",
              "      <th>2</th>\n",
              "      <td>PNMD</td>\n",
              "      <td>3.139300e+09</td>\n",
              "      <td>3.214000e+09</td>\n",
              "      <td>3.196900e+09</td>\n",
              "      <td>3.193700e+09</td>\n",
              "      <td>3.166000e+09</td>\n",
              "      <td>6411.0</td>\n",
              "      <td>6506.0</td>\n",
              "      <td>7750.0</td>\n",
              "      <td>NaN</td>\n",
              "      <td>3.354596e+09</td>\n",
              "    </tr>\n",
              "    <tr>\n",
              "      <th>3</th>\n",
              "      <td>VKNF</td>\n",
              "      <td>1.994112e+09</td>\n",
              "      <td>2.023348e+09</td>\n",
              "      <td>1.982028e+09</td>\n",
              "      <td>2.007387e+09</td>\n",
              "      <td>2.009031e+09</td>\n",
              "      <td>NaN</td>\n",
              "      <td>1925.0</td>\n",
              "      <td>1995.0</td>\n",
              "      <td>2050.0</td>\n",
              "      <td>2.083830e+09</td>\n",
              "    </tr>\n",
              "    <tr>\n",
              "      <th>4</th>\n",
              "      <td>HHVD</td>\n",
              "      <td>7.612489e+08</td>\n",
              "      <td>1.121284e+09</td>\n",
              "      <td>1.245810e+09</td>\n",
              "      <td>1.317865e+09</td>\n",
              "      <td>1.779402e+09</td>\n",
              "      <td>NaN</td>\n",
              "      <td>5159.0</td>\n",
              "      <td>5599.0</td>\n",
              "      <td>5483.0</td>\n",
              "      <td>1.785612e+09</td>\n",
              "    </tr>\n",
              "    <tr>\n",
              "      <th>...</th>\n",
              "      <td>...</td>\n",
              "      <td>...</td>\n",
              "      <td>...</td>\n",
              "      <td>...</td>\n",
              "      <td>...</td>\n",
              "      <td>...</td>\n",
              "      <td>...</td>\n",
              "      <td>...</td>\n",
              "      <td>...</td>\n",
              "      <td>...</td>\n",
              "      <td>...</td>\n",
              "    </tr>\n",
              "    <tr>\n",
              "      <th>17419</th>\n",
              "      <td>ECYY</td>\n",
              "      <td>NaN</td>\n",
              "      <td>NaN</td>\n",
              "      <td>NaN</td>\n",
              "      <td>NaN</td>\n",
              "      <td>NaN</td>\n",
              "      <td>NaN</td>\n",
              "      <td>NaN</td>\n",
              "      <td>100.0</td>\n",
              "      <td>99.0</td>\n",
              "      <td>2.191836e+07</td>\n",
              "    </tr>\n",
              "    <tr>\n",
              "      <th>17420</th>\n",
              "      <td>GCGH</td>\n",
              "      <td>NaN</td>\n",
              "      <td>NaN</td>\n",
              "      <td>NaN</td>\n",
              "      <td>NaN</td>\n",
              "      <td>NaN</td>\n",
              "      <td>NaN</td>\n",
              "      <td>171.0</td>\n",
              "      <td>175.0</td>\n",
              "      <td>165.0</td>\n",
              "      <td>2.279616e+07</td>\n",
              "    </tr>\n",
              "    <tr>\n",
              "      <th>17421</th>\n",
              "      <td>HCRP</td>\n",
              "      <td>7.793100e+04</td>\n",
              "      <td>5.968600e+04</td>\n",
              "      <td>2.830900e+04</td>\n",
              "      <td>1.306000e+03</td>\n",
              "      <td>NaN</td>\n",
              "      <td>NaN</td>\n",
              "      <td>NaN</td>\n",
              "      <td>NaN</td>\n",
              "      <td>12.0</td>\n",
              "      <td>7.864925e+04</td>\n",
              "    </tr>\n",
              "    <tr>\n",
              "      <th>17422</th>\n",
              "      <td>JXDE</td>\n",
              "      <td>3.068900e+04</td>\n",
              "      <td>6.182000e+03</td>\n",
              "      <td>1.429000e+03</td>\n",
              "      <td>NaN</td>\n",
              "      <td>NaN</td>\n",
              "      <td>NaN</td>\n",
              "      <td>NaN</td>\n",
              "      <td>NaN</td>\n",
              "      <td>7.0</td>\n",
              "      <td>3.128281e+05</td>\n",
              "    </tr>\n",
              "    <tr>\n",
              "      <th>17423</th>\n",
              "      <td>UKZV</td>\n",
              "      <td>3.959960e+05</td>\n",
              "      <td>3.019910e+05</td>\n",
              "      <td>4.010210e+05</td>\n",
              "      <td>NaN</td>\n",
              "      <td>NaN</td>\n",
              "      <td>NaN</td>\n",
              "      <td>NaN</td>\n",
              "      <td>6.0</td>\n",
              "      <td>NaN</td>\n",
              "      <td>3.293233e+06</td>\n",
              "    </tr>\n",
              "  </tbody>\n",
              "</table>\n",
              "<p>17424 rows × 11 columns</p>\n",
              "</div>"
            ],
            "text/plain": [
              "       NAME  Revenue_2015  ...  Employees_2020  Revenue_2020(To predict)\n",
              "0      LAKI  1.903978e+10  ...           785.0              1.975155e+10\n",
              "1      YETS  3.687564e+09  ...          2548.0              3.473084e+09\n",
              "2      PNMD  3.139300e+09  ...             NaN              3.354596e+09\n",
              "3      VKNF  1.994112e+09  ...          2050.0              2.083830e+09\n",
              "4      HHVD  7.612489e+08  ...          5483.0              1.785612e+09\n",
              "...     ...           ...  ...             ...                       ...\n",
              "17419  ECYY           NaN  ...            99.0              2.191836e+07\n",
              "17420  GCGH           NaN  ...           165.0              2.279616e+07\n",
              "17421  HCRP  7.793100e+04  ...            12.0              7.864925e+04\n",
              "17422  JXDE  3.068900e+04  ...             7.0              3.128281e+05\n",
              "17423  UKZV  3.959960e+05  ...             NaN              3.293233e+06\n",
              "\n",
              "[17424 rows x 11 columns]"
            ]
          },
          "metadata": {
            "tags": []
          },
          "execution_count": 123
        }
      ]
    },
    {
      "cell_type": "code",
      "metadata": {
        "id": "FNrSEaZC89Yo"
      },
      "source": [
        "raw_df.to_csv('dealroom_prediction')"
      ],
      "execution_count": 124,
      "outputs": []
    }
  ]
}
